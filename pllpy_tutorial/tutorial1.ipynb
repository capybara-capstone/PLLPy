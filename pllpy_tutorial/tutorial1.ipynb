{
 "cells": [
  {
   "cell_type": "markdown",
   "metadata": {},
   "source": [
    "#Tutorial 1\n",
    "\n",
    "Unit Blocks"
   ]
  },
  {
   "cell_type": "code",
   "execution_count": null,
   "metadata": {
    "vscode": {
     "languageId": "plaintext"
    }
   },
   "outputs": [],
   "source": [
    "from PLLPY.components.pll import Pll\n",
    "from PLLPY.components.vco import Vco\n",
    "from PLLPY.components.lpd import Lpd\n",
    "from PLLPY.components.lf import LoopFilter\n",
    "from PLLPY.components.divider import Divider\n",
    "from PLLPY.utils.settings import Settings"
   ]
  },
  {
   "cell_type": "markdown",
   "metadata": {},
   "source": [
    "Each core functional block (VCO, Divider, LDP, Loop Filter) contains a unit_test method.\n",
    "This method exectues a pytest file. Any pytest can be passed as test. To get us started, look at the example in the pllpy_tutorial/unit_tests folder. It includes a demo unit test for every block."
   ]
  },
  {
   "cell_type": "code",
   "execution_count": null,
   "metadata": {
    "vscode": {
     "languageId": "plaintext"
    }
   },
   "outputs": [],
   "source": [
    "settings = Settings(name='setup_settings')\n",
    "vco = Vco(settings=settings)\n",
    "if vco.unit_test(test_path='./unit_test/vco/vco_tester.py') != 0:\n",
    "    pass"
   ]
  },
  {
   "cell_type": "markdown",
   "metadata": {},
   "source": []
  }
 ],
 "metadata": {
  "language_info": {
   "name": "python"
  }
 },
 "nbformat": 4,
 "nbformat_minor": 2
}
