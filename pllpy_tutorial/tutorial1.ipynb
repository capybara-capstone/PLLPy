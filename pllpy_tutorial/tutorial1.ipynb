{
 "cells": [
  {
   "cell_type": "markdown",
   "metadata": {},
   "source": [
    "# Tutorial 1\n",
    "\n",
    "## Unit Blocks"
   ]
  },
  {
   "cell_type": "code",
   "execution_count": null,
   "metadata": {},
   "outputs": [],
   "source": [
    "from PLLPY.components.pll import Pll\n",
    "from PLLPY.components.vco import Vco\n",
    "from PLLPY.components.lpd import Lpd\n",
    "from PLLPY.components.lf import LoopFilter\n",
    "from PLLPY.components.divider import Divider\n",
    "from PLLPY.utils.settings import Settings\n",
    "import os"
   ]
  },
  {
   "cell_type": "markdown",
   "metadata": {},
   "source": [
    "Each core functional block (VCO, Divider, LDP, Loop Filter) contains a unit_test method.\n",
    "This method exectues a pytest file. Any pytest can be passed as test. To get us started, look at the example in the pllpy_tutorial/unit_tests folder. It includes a demo unit test for every block."
   ]
  },
  {
   "cell_type": "code",
   "execution_count": null,
   "metadata": {},
   "outputs": [],
   "source": [
    "settings = Settings(name='setup_settings')\n",
    "vco = Vco(settings=settings)\n",
    "results = vco.unit_test(test_path='./unit_tests/vco/vco_tester.py')"
   ]
  },
  {
   "cell_type": "markdown",
   "metadata": {},
   "source": [
    "Testing all blocks"
   ]
  },
  {
   "cell_type": "code",
   "execution_count": null,
   "metadata": {},
   "outputs": [],
   "source": [
    "lpd = Lpd(settings=settings)\n",
    "results = lpd.unit_test(test_path='./unit_tests/lpd/lpd_tester.py')\n",
    "\n",
    "lf = LoopFilter(settings=settings)\n",
    "results = lf.unit_test(test_path='./unit_tests/lf/lf_tester.py')\n",
    "\n",
    "div = Divider(settings=settings)\n",
    "results = div.unit_test(test_path='./unit_tests/div/div_tester.py')\n"
   ]
  },
  {
   "cell_type": "markdown",
   "metadata": {},
   "source": []
  }
 ],
 "metadata": {
  "kernelspec": {
   "display_name": "pll_venv",
   "language": "python",
   "name": "python3"
  },
  "language_info": {
   "codemirror_mode": {
    "name": "ipython",
    "version": 3
   },
   "file_extension": ".py",
   "mimetype": "text/x-python",
   "name": "python",
   "nbconvert_exporter": "python",
   "pygments_lexer": "ipython3",
   "version": "3.10.16"
  }
 },
 "nbformat": 4,
 "nbformat_minor": 2
}
